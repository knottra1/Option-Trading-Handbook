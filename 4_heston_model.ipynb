{
 "cells": [
  {
   "cell_type": "markdown",
   "id": "e703990c-2ac3-4646-b05b-39c645537108",
   "metadata": {},
   "source": [
    "# 4 Heston Model\n",
    "\n",
    "Call Only"
   ]
  },
  {
   "cell_type": "code",
   "execution_count": 5,
   "id": "b06c046a-9dbf-4e00-a7cf-71e90e69d8c3",
   "metadata": {},
   "outputs": [],
   "source": [
    "import numpy as np\n",
    "\n",
    "def heston_option_price(S0, V0, r, k, theta, sigma, rho, T, K, n_steps=1000, n_paths=10000):\n",
    "    \"\"\"\n",
    "    Calculates the price of a European call option using the Heston model.\n",
    "\n",
    "    Parameters:\n",
    "    S0 : float - Initial stock price\n",
    "    V0 : float - Initial variance (volatility squared)\n",
    "    r : float - Risk-free rate\n",
    "    k : float - Speed of mean reversion of variance\n",
    "    theta : float - Long-term variance\n",
    "    sigma : float - Volatility of volatility\n",
    "    rho : float - Correlation between the asset price and variance\n",
    "    T : float - Time to maturity\n",
    "    K : float - Strike price\n",
    "    n_steps : int - Number of time steps (default: 1000)\n",
    "    n_paths : int - Number of simulated paths (default: 10000)\n",
    "\n",
    "    Returns:\n",
    "    call_price : float - Estimated European call option price\n",
    "    \"\"\"\n",
    "    dt = T / n_steps  # Time step size\n",
    "    \n",
    "    # Random numbers for the two Wiener processes\n",
    "    dW1 = np.random.normal(0, np.sqrt(dt), (n_paths, n_steps))\n",
    "    dW2 = np.random.normal(0, np.sqrt(dt), (n_paths, n_steps))\n",
    "\n",
    "    # Correlate dW1 and dW2 using the correlation coefficient rho\n",
    "    dW2 = rho * dW1 + np.sqrt(1 - rho**2) * dW2\n",
    "\n",
    "    # Arrays to hold simulated asset prices and variances\n",
    "    S = np.zeros((n_paths, n_steps + 1))\n",
    "    V = np.zeros((n_paths, n_steps + 1))\n",
    "\n",
    "    # Initial values\n",
    "    S[:, 0] = S0\n",
    "    V[:, 0] = V0\n",
    "\n",
    "    # Simulating the paths using the Heston model\n",
    "    for t in range(1, n_steps + 1):\n",
    "        V[:, t] = np.maximum(V[:, t - 1] + k * (theta - V[:, t - 1]) * dt + sigma * np.sqrt(V[:, t - 1]) * dW2[:, t - 1], 0)\n",
    "        S[:, t] = S[:, t - 1] * np.exp((r - 0.5 * V[:, t - 1]) * dt + np.sqrt(V[:, t - 1]) * dW1[:, t - 1])\n",
    "\n",
    "    # Payoff for a European Call Option (S_T - K)+\n",
    "    call_payoff = np.maximum(S[:, -1] - K, 0)\n",
    "\n",
    "    # Discounting the payoff to present value\n",
    "    call_price = np.exp(-r * T) * np.mean(call_payoff)\n",
    "    print(f\"Heston Call Option Price: {call_price:.2f}\")"
   ]
  },
  {
   "cell_type": "code",
   "execution_count": 4,
   "id": "51e0b923-f845-4790-a5aa-b894749a8286",
   "metadata": {},
   "outputs": [
    {
     "name": "stdout",
     "output_type": "stream",
     "text": [
      "Heston Call Option Price: 10.34\n"
     ]
    }
   ],
   "source": [
    "call_price = heston_option_price(S0 = 100, V0 = 0.04, r = 0.05, k = 2.0, theta = 0.04, sigma = 0.3, rho = -0.7, T = 1.0, K = 100)"
   ]
  }
 ],
 "metadata": {
  "kernelspec": {
   "display_name": "Python 3 (ipykernel)",
   "language": "python",
   "name": "python3"
  },
  "language_info": {
   "codemirror_mode": {
    "name": "ipython",
    "version": 3
   },
   "file_extension": ".py",
   "mimetype": "text/x-python",
   "name": "python",
   "nbconvert_exporter": "python",
   "pygments_lexer": "ipython3",
   "version": "3.11.5"
  }
 },
 "nbformat": 4,
 "nbformat_minor": 5
}
